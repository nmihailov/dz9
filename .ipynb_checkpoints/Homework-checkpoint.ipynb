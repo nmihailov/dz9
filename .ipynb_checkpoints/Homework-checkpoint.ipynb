{
 "cells": [
  {
   "cell_type": "code",
   "execution_count": 11,
   "metadata": {},
   "outputs": [
    {
     "name": "stdout",
     "output_type": "stream",
     "text": [
      "Укажите полный путь к .txt файлу: C:\\Users\\Nikita Mikhailov\\dz9\\DE.txt\n",
      "Укажите полный путь в директорию, куда будет записан результат, с названием файла: C:\\Users\\Nikita Mikhailov\\dz9\\rez.txt\n",
      "C какого языка переводим?(Формат ввода 2 буквы \"ru\", \"de\")de\n",
      "На какой язык переводим?(Формат ввода 2 буквы \"ru\", \"de\")ru\n",
      "{'code': 200, 'lang': 'de-ru', 'text': ['Сильные 45 минут было достаточно: ФК \"Бавария\" стартовали 13. Бундеслига-теги игры против Майнц 05 выиграла, ранний остаток мюнхенская снимали еще до перерыва. Счет 3:1 (2:1) команда от тренера Карлоса Анчелотти 30 очков - столько, сколько РБ Лейпциг, лидер чемпионата играет в субботу вечером против \"Шальке\" (18.30, High-Live Ticker SPIEGEL ONLINE). \\n\\n\"В первом тайме мы играли так, как долго больше не будет\", - сказал Арьен Роббен, один из бомбардиров, после матча: \"последние недели не хватило нам немного Сюрпризов. Это было сегодня хорошо. На самом деле мы должны были забить уже в первом тайме больше голов.\" \\n\\nАнчелотти сделал себе несколько мыслей по установке, Филипп Лам из обороны в оборонительной полузащите причислены, на крыльях смогли сыграть впервые за девять месяцев Франк Рибери и Арьен Роббен в очередной раз с самого начала. Недавно резко критиковал Жером Боатенг (\"down to earth\") сидел на скамейке, рядом стоял Матс Хуммельс Хавьер Мартинес в центре обороны. \\n']}\n"
     ]
    }
   ],
   "source": [
    "import requests\n",
    "\n",
    "API_KEY = 'trnsl.1.1.20180924T214001Z.9171962a8a083c49.9851360cd6f35133247689788a7c562a05961e1b'\n",
    "URL = 'https://translate.yandex.net/api/v1.5/tr.json/translate'\n",
    "\n",
    "f = input('Укажите полный путь к .txt файлу: ')\n",
    "f2 = input('Укажите полный путь в директорию, куда будет записан результат, с названием файла: ')\n",
    "lang1 = input('C какого языка переводим?(Формат ввода 2 буквы \"ru\", \"de\")')\n",
    "lang2 = input('На какой язык переводим?(Формат ввода 2 буквы \"ru\", \"de\")')\n",
    "file = open(f, 'rb').read()\n",
    "\n",
    "\n",
    "def translate_it(text, to_lang1, to_lang2):\n",
    "    \"\"\"\n",
    "    https://translate.yandex.net/api/v1.5/tr.json/translate ?\n",
    "    key=<API-ключ>\n",
    "     & text=<переводимый текст>\n",
    "     & lang=<направление перевода>\n",
    "     & [format=<формат текста>]\n",
    "     & [options=<опции перевода>]\n",
    "     & [callback=<имя callback-функции>]\n",
    "\n",
    "    :param to_lang:\n",
    "    :return:\n",
    "    \"\"\"\n",
    "\n",
    "    params = {\n",
    "        'key': API_KEY,\n",
    "        'text': text,\n",
    "        'lang': '{}-{}'.format(to_lang1, to_lang2),\n",
    "    }\n",
    "\n",
    "    response = requests.get(URL, params=params)\n",
    "    json_ = response.json()\n",
    "    print(json_)\n",
    "    return ''.join(json_['text'])\n",
    "\n",
    "\n",
    "with open(f2, 'w') as f:\n",
    "    f.write(translate_it(file, lang1, lang2))\n"
   ]
  },
  {
   "cell_type": "code",
   "execution_count": null,
   "metadata": {},
   "outputs": [],
   "source": []
  }
 ],
 "metadata": {
  "kernelspec": {
   "display_name": "Python 3",
   "language": "python",
   "name": "python3"
  },
  "language_info": {
   "codemirror_mode": {
    "name": "ipython",
    "version": 3
   },
   "file_extension": ".py",
   "mimetype": "text/x-python",
   "name": "python",
   "nbconvert_exporter": "python",
   "pygments_lexer": "ipython3",
   "version": "3.6.5"
  }
 },
 "nbformat": 4,
 "nbformat_minor": 2
}
